{
 "cells": [
  {
   "cell_type": "markdown",
   "metadata": {},
   "source": [
    "### Function To Read Files"
   ]
  },
  {
   "cell_type": "code",
   "execution_count": 1,
   "metadata": {},
   "outputs": [],
   "source": [
    "def read_file(path_ham,path_spam):\n",
    "    \n",
    "# Path of files are passed in as parameters\n",
    "    ham_files=glob.glob(path_ham)\n",
    "    ham_list=[] # empty list to store file information\n",
    "    \n",
    "    for file_path in ham_files:\n",
    "        with open(file_path,encoding=\"utf8\",errors=\"ignore\") as f:\n",
    "            ham_list.append(f.read()) # appending info into list\n",
    "            \n",
    "    ham_df=pd.DataFrame(ham_list,columns=[\"Emails\"]) # converting list to data frame\n",
    "    ham_df[\"Target\"]=0 # creating target column 0 for ham\n",
    "    print(\"Shape of Ham data\")\n",
    "    print(ham_df.shape) #checking shape of data frame\n",
    "    \n",
    "    spam_files=glob.glob(path_spam)\n",
    "    spam_list=[]\n",
    "    \n",
    "    for file_path in spam_files:\n",
    "        with open(file_path,encoding=\"utf8\",errors=\"ignore\") as f:\n",
    "            spam_list.append(f.read())\n",
    "            \n",
    "    spam_df=pd.DataFrame(spam_list,columns=[\"Emails\"])\n",
    "    spam_df[\"Target\"]=1 # creating target column 1 for spam\n",
    "    print(\"\\n\")\n",
    "    print(\"Shape of Spam Data\")\n",
    "    print(spam_df.shape)\n",
    "    \n",
    "    df=pd.concat([ham_df,spam_df]) # concatenating ham and spam data into one dataframe\n",
    "    df=shuffle(df,random_state=1)  # shuffling data for equal distribution of two classes\n",
    "    df.reset_index(drop=True, inplace=True) # resetting index\n",
    "    return df\n"
   ]
  },
  {
   "cell_type": "markdown",
   "metadata": {},
   "source": [
    "### Function To check the data structure"
   ]
  },
  {
   "cell_type": "code",
   "execution_count": 2,
   "metadata": {},
   "outputs": [],
   "source": [
    "def data_check(df):\n",
    "    print(\"\\n\")\n",
    "    print(\"Combined data\")\n",
    "    print(df.head(5))\n",
    "    print(\"\\n\")\n",
    "    \n",
    "    print(\"Checking for Null values\\n\")\n",
    "    print(df.isnull().sum()) \n",
    "    \n",
    "    print(\"Shape of the data before removing duplicates\")\n",
    "    print(df.shape) # checking row and column size of data\n",
    "    \n",
    "    duplicate=df[df.duplicated()] \n",
    "    # check if duplicate records are present\n",
    "    print(\"Number of duplicate records\")\n",
    "    print(duplicate.shape[0])\n",
    "    df.drop_duplicates(inplace=True) # dropping duplicates\n",
    "    df.reset_index(drop=True, inplace=True)\n",
    "    \n",
    "    print(\"Shape of the data after removing duplicates\")\n",
    "    print(df.shape)\n",
    "    \n",
    "    #plotting pie chart to show distribution of data\n",
    "    df[\"Target\"].value_counts().plot(kind = 'pie',explode=[0, 0.1],figsize=(6, 6),autopct='%1.1f%%',shadow=True)\n",
    "    plt.title(\"Spam vs Ham\")\n",
    "    plt.legend([\"Ham\", \"Spam\"])\n",
    "    plt.show()\n",
    "\n",
    "    return df"
   ]
  },
  {
   "cell_type": "markdown",
   "metadata": {},
   "source": [
    "### Function To Pre Process Data"
   ]
  },
  {
   "cell_type": "code",
   "execution_count": 3,
   "metadata": {},
   "outputs": [],
   "source": [
    "def text_cleaning(final_df,stop_words=False,stem=False):\n",
    "    # Data frame and two prameters which are True are passed into the function\n",
    "    snowball=SnowballStemmer(language='english') # for stemming\n",
    "    stop=stopwords.words('english')  # for stopwords removal\n",
    "    newStopWords = ['subject','re','fw','\\n'] # additional stop words\n",
    "    stop.extend(newStopWords) #adding to stop words list\n",
    "    stop=set(stop)\n",
    "    \n",
    "    #lower case\n",
    "    final_df['Emails']=final_df['Emails'].str.lower()\n",
    "    \n",
    "    \n",
    "    #remove punctuation\n",
    "    final_df['Emails']=final_df['Emails'].astype(str).str.replace('[^\\w\\s]','')\n",
    "    \n",
    "    #tokenize text\n",
    "    final_df['Emails'] = final_df.apply(lambda row: nltk.word_tokenize(row['Emails']), axis=1)\n",
    "    \n",
    "    #removing common words\n",
    "    if stop_words:\n",
    "        final_df['Emails']=final_df['Emails'].apply(lambda x: [item for item in x if item not in stop])\n",
    "        \n",
    "    #stemming\n",
    "    if stem:\n",
    "        final_df['Emails']=final_df['Emails'].apply(lambda x: [snowball.stem(item) for item in x ])\n",
    "    \n",
    "    #remove words that contain numbers\n",
    "    final_df['Emails']=final_df['Emails'].apply(lambda x: [word for word in x if not any(c.isdigit() for c in word)])\n",
    "    \n",
    "    #remove empty tokens\n",
    "    final_df['Emails']=final_df['Emails'].apply(lambda x: [t for t in x if len(t)>0])\n",
    "    \n",
    "    #remove words with only one letter\n",
    "    final_df['Emails']=final_df['Emails'].apply(lambda x: [t for t in x if len(t)>1])\n",
    "    \n",
    "    #join all\n",
    "    final_df['Emails']=final_df['Emails'].str.join(\" \")\n",
    "    \n",
    "    #removing empty emails\n",
    "    final_df=final_df[final_df['Emails'].map(len)>0]\n",
    "    \n",
    "    final_df.reset_index(drop=True, inplace=True)\n",
    "    \n",
    "    return final_df"
   ]
  },
  {
   "cell_type": "markdown",
   "metadata": {},
   "source": [
    "### Function for Length Calculation & Distribution Plots"
   ]
  },
  {
   "cell_type": "code",
   "execution_count": 4,
   "metadata": {},
   "outputs": [],
   "source": [
    "def data_exploration(x):\n",
    "    #calculating length\n",
    "    length=[]\n",
    "    for i in range(0,len(x)):\n",
    "        length.append(len(x[\"Emails\"][i]))\n",
    "    x.insert(len(x.columns), 'Length', length) # inserting lengths into a new column in data frame\n",
    "    \n",
    "    #creating separate data frames fro ham and spam for analysis\n",
    "    spam_messages=x[x[\"Target\"]==1]\n",
    "    ham_messages=x[x[\"Target\"]==0]\n",
    "    \n",
    "    print(\"\\n\")\n",
    "    print(\"----------Average length----------\")\n",
    "    print(\"Average length of spam messages \",round(spam_messages['Length'].mean(),0))\n",
    "    print(\"Average length of ham messages \",round(ham_messages['Length'].mean(),0))\n",
    "    \n",
    "    #To create boxplot\n",
    "    spam_len=spam_messages['Length'].to_numpy() #converting to array\n",
    "    ham_len=ham_messages['Length'].to_numpy()\n",
    "    data = [spam_len, ham_len]\n",
    "    # Create a figure instance\n",
    "    fig = plt.figure(1, figsize=(9, 6))\n",
    "\n",
    "    # Create an axes instance\n",
    "    ax = fig.add_subplot(111)\n",
    "\n",
    "    # Create the boxplot\n",
    "    bp = ax.boxplot(data, patch_artist=True)## change outline color, fill color and linewidth of the boxes\n",
    "\n",
    "    ax.set_xticklabels(['Spam', 'Ham'])\n",
    "    plt.xlabel('Category') \n",
    "    plt.ylabel('Length') \n",
    "\n",
    "    # displaying the title\n",
    "    plt.title(\"Boxplot of Lengths of Spam and Ham Emails\")\n",
    "\n",
    "    plt.show()\n",
    "    warnings.filterwarnings(\"ignore\", category=np.VisibleDeprecationWarning)\n",
    "    return x"
   ]
  },
  {
   "cell_type": "markdown",
   "metadata": {},
   "source": [
    "### Function To Analyze Emails by Length"
   ]
  },
  {
   "cell_type": "code",
   "execution_count": 5,
   "metadata": {},
   "outputs": [],
   "source": [
    "def largest(df):\n",
    "    print(\"----------Data Frame sorted by largest length-----------\")\n",
    "    print(df.sort_values('Length',ascending=False).head())\n",
    "   \n",
    "    print(\"----------Description of Entire Data by Length----------\")\n",
    "    print(df['Length'].describe())\n",
    "    \n",
    "    #creating separate data frames for ham and spam for analysis\n",
    "    spam_messages=df[df[\"Target\"]==1]\n",
    "    ham_messages=df[df[\"Target\"]==0]\n",
    "    \n",
    "    # Frequency distribution plot for spam data\n",
    "    ax1=spam_messages.hist(column='Length', bins=50,figsize=(12,4),range=(0,5000))\n",
    "    for ax in ax1.flatten():\n",
    "        ax.set_xlabel(\"Length of Email\")\n",
    "        ax.set_ylabel(\"Frequency\")\n",
    "        ax.set_title(\"Histogram of Length of Spam Emails\")\n",
    "        \n",
    "    # Frequency distribution plot for ham data    \n",
    "    ax1=ham_messages.hist(column='Length', bins=50,figsize=(12,4),range=(0,5000))\n",
    "    for ax in ax1.flatten():\n",
    "        ax.set_xlabel(\"Length of Email\")\n",
    "        ax.set_ylabel(\"Frequency\")\n",
    "        ax.set_title(\"Histogram of Length of Ham Emails\")\n",
    "    \n",
    "    \n",
    "    print(\"----------Description of Spam Data by Length----------\")\n",
    "    print(spam_messages['Length'].describe())\n",
    "    print(\"----------Description of Ham Data by Length----------\")\n",
    "    print(ham_messages['Length'].describe())\n",
    "    "
   ]
  },
  {
   "cell_type": "markdown",
   "metadata": {},
   "source": [
    "### Function To Find Top Words in Ham and Spam"
   ]
  },
  {
   "cell_type": "code",
   "execution_count": 6,
   "metadata": {},
   "outputs": [],
   "source": [
    "def top_words(df_train_vec):\n",
    "    import seaborn as sns\n",
    "     #creating separate data frames for ham and spam for analysis\n",
    "    spam_messages=df_train_vec[df_train_vec[\"Target\"]==1]\n",
    "    ham_messages=df_train_vec[df_train_vec[\"Target\"]==0]\n",
    "    \n",
    "    vectorizer_spam = TfidfVectorizer().fit(spam_messages['Emails']) # fitting spam data\n",
    "    tfidf_spam = vectorizer_spam.transform(spam_messages['Emails']) # transforming it based on term freq and inverse doc freq\n",
    "    \n",
    "    # summing the values for each column( each column is a word in corpus). hence total count for each word based on tfidf is obtained as a vector\n",
    "    tfidf_sum_words_spam = tfidf_spam.sum(axis=0) \n",
    "    \n",
    "    # the word and its corresponding value is fetched as list of tuples. \n",
    "    # word and its index is obtained from vocabulary_.items() and this is searched in sum vector\n",
    "    tfidf_words_freq_spam = [(word, tfidf_sum_words_spam[0, idx]) for word, idx in vectorizer_spam.vocabulary_.items()]\n",
    "    tfidf_words_freq_spam =sorted(tfidf_words_freq_spam, key = lambda x: x[1], reverse=True) # sorting the list based on values descending\n",
    "    \n",
    "    dict_spam=dict(tfidf_words_freq_spam) # converting list of tuples into a dictionary\n",
    "    first20vals_spam = list(dict_spam.values())[0:20] # taking first 20 dict values\n",
    "    fisrt20keys_spam= list(dict_spam.keys())[0:20]  # taking first 20 dict keys\n",
    "    \n",
    "    #plotting bar plot\n",
    "    fig = plt.figure(1, figsize=(15, 6))\n",
    "    ax=sns.barplot(fisrt20keys_spam,first20vals_spam)\n",
    "    ax.set(xlabel='Word', ylabel='Occurence using Tfidf',title=\"Top 20 words in Spam\")\n",
    "    plt.show()\n",
    "\n",
    "    # fitting and transforming ham data\n",
    "    vectorizer_ham = TfidfVectorizer().fit(ham_messages['Emails'])\n",
    "    tfidf_ham = vectorizer_ham.transform(ham_messages['Emails'])\n",
    "    \n",
    "    tfidf_sum_words_ham = tfidf_ham.sum(axis=0)\n",
    "    \n",
    "    tfidf_words_freq_ham = [(word, round(tfidf_sum_words_ham[0, idx],2)) for word, idx in vectorizer_ham.vocabulary_.items()]\n",
    "    tfidf_words_freq_ham =sorted(tfidf_words_freq_ham, key = lambda x: x[1], reverse=True)\n",
    "   \n",
    "    dict_ham=dict(tfidf_words_freq_ham)\n",
    "    first20vals_ham = list(dict_ham.values())[0:20]\n",
    "    fisrt20keys_ham= list(dict_ham.keys())[0:20]\n",
    "    \n",
    "    #plotting bar plot\n",
    "    fig = plt.figure(1, figsize=(15, 6))\n",
    "    ax=sns.barplot(fisrt20keys_ham,first20vals_ham)\n",
    "    ax.set(xlabel='Word', ylabel='Occurence using Tfidf',title=\"Top 20 words in Ham\")\n",
    "    plt.show()"
   ]
  },
  {
   "cell_type": "markdown",
   "metadata": {},
   "source": [
    "### Function to Compare models Based on CountVectorized Data Using Cross Validation"
   ]
  },
  {
   "cell_type": "code",
   "execution_count": 7,
   "metadata": {},
   "outputs": [],
   "source": [
    "# evaluate each model in turn\n",
    "def modelselection_cv(models,features_train_cv,result_train):\n",
    "    # list of models (model name and model function) and traning data is passed into this function\n",
    "    results = [] # list to store accuracy\n",
    "    names = []  # list  to store name of each model\n",
    "    scoring = 'accuracy'\n",
    "    \n",
    "    # for each model\n",
    "    for name, model in models:\n",
    "        val=0 # to store k value\n",
    "        avg=0 # to store average cross validation score\n",
    "        # for k from 2 to 11\n",
    "        for i in range(2,11):\n",
    "            \n",
    "            # stratified k fold cross validation used since the data is imbalanced\n",
    "            stratifiedkf=StratifiedKFold(n_splits=i) \n",
    "            # obtaning cross validation score for each k\n",
    "            score=cross_val_score(model,features_train_cv,result_train,cv=stratifiedkf)\n",
    "            \n",
    "            # calculating mean cross validation score and comparing to find best k value for each model\n",
    "            if score.mean()>avg:\n",
    "                val=i\n",
    "                avg=score.mean()\n",
    "        print(\"------------------\",name,\"--------------------------\")\n",
    "        print(\"Best K value for \",name,\" is \",val)\n",
    "        \n",
    "        # performing cross validation for each model on optimum value of k to get accuracy for training data\n",
    "        stratifiedkf=StratifiedKFold(n_splits=val)\n",
    "        accuracy=cross_val_score(model,features_train_cv,result_train,scoring='accuracy',cv=stratifiedkf)\n",
    "        print(\"Score in each folds are \",accuracy)\n",
    "        #get the mean accuracy of all folds \n",
    "        print(\"Overall Accuracy of Model with Cross Validation is: {0:0.2f}\".format(accuracy.mean() * 100))\n",
    "        #predicted = cross_val_predict(model,features_train_cv,result_train,cv=stratifiedkf)\n",
    "\n",
    "        # appending list of accuracies for each fold for optimum value of k\n",
    "        results.append(accuracy)\n",
    "        names.append(name) # appending name of model\n",
    "        msg = \"%s: %f (%f)\" % (name, accuracy.mean(), accuracy.std()) # to print mean accuracy and std deviation of accuracy\n",
    "        print(msg)\n",
    "        \n",
    "    # boxplot for algorithm comparison\n",
    "    fig = plt.figure()\n",
    "    fig.suptitle('Algorithm Comparison')\n",
    "    ax = fig.add_subplot(111)\n",
    "    plt.boxplot(results) # boxplot is based on accuracy\n",
    "    plt.ylabel(\"Accuracy\")\n",
    "    ax.set_xticklabels(names)\n",
    "    plt.show()"
   ]
  },
  {
   "cell_type": "markdown",
   "metadata": {},
   "source": [
    "### Function to Compare models Based on TfidfVectorized Data Using Cross Validation"
   ]
  },
  {
   "cell_type": "code",
   "execution_count": 8,
   "metadata": {},
   "outputs": [],
   "source": [
    "# evaluate each model in turn\n",
    "# this function is similar to the function above, except that the data is tfidfvectorized\n",
    "def modelselection_tf(models,features_train_tf,result_train):\n",
    "    results = []\n",
    "    names = []\n",
    "    scoring = 'accuracy'\n",
    "    for name, model in models:\n",
    "        val=0\n",
    "        avg=0\n",
    "        for i in range(2,11):\n",
    "            stratifiedkf=StratifiedKFold(n_splits=i)\n",
    "            score=cross_val_score(model,features_train_tf,result_train,cv=stratifiedkf)\n",
    "            if score.mean()>avg:\n",
    "                val=i\n",
    "                avg=score.mean()\n",
    "        print(\"------------------\",name,\"--------------------------\")\n",
    "        print(\"Best K value for \",name,\" is \",val)\n",
    "        \n",
    "        stratifiedkf=StratifiedKFold(n_splits=val)\n",
    "        accuracy=cross_val_score(model,features_train_tf,result_train,scoring='accuracy',cv=stratifiedkf)\n",
    "        print(\"Score in each folds are \",accuracy)\n",
    "        #get the mean of each fold \n",
    "        print(\"Overall Accuracy of Model with Cross Validation is: {0:0.2f}\".format(accuracy.mean() * 100))\n",
    "        #predicted = cross_val_predict(model,features_train_tf,result_train,cv=stratifiedkf)\n",
    "\n",
    "      \n",
    "        results.append(accuracy)\n",
    "        names.append(name)\n",
    "        msg = \"%s: %f (%f)\" % (name, accuracy.mean(), accuracy.std())\n",
    "        print(msg)\n",
    "    # boxplot algorithm comparison\n",
    "    fig = plt.figure()\n",
    "    fig.suptitle('Algorithm Comparison')\n",
    "    ax = fig.add_subplot(111)\n",
    "    plt.boxplot(results)\n",
    "    plt.ylabel(\"Accuracy\")\n",
    "    ax.set_xticklabels(names)\n",
    "    plt.show()"
   ]
  },
  {
   "cell_type": "markdown",
   "metadata": {},
   "source": [
    "### Function for Model Selection"
   ]
  },
  {
   "cell_type": "code",
   "execution_count": 9,
   "metadata": {},
   "outputs": [],
   "source": [
    "def model_selection(features_train_cv,features_train_tf,result_train):\n",
    "    #countvectorized and tfidfvectorized training features along with traning results are passed into this function\n",
    "    \n",
    "    #Empty list to append all models\n",
    "    models = []\n",
    "    # Appending model names and models to list\n",
    "    models.append(('LR', LogisticRegression(random_state=1)))\n",
    "    models.append(('MNB', MultinomialNB()))\n",
    "    models.append(('SVM', svm.SVC(random_state=1)))\n",
    "    models.append(('Dtree', DecisionTreeClassifier(random_state=1)))\n",
    "    \n",
    "    print(\"Using CountVectorizer\")\n",
    "    # Function calls for model selection based on countvectorization\n",
    "    modelselection_cv(models,features_train_cv,result_train)\n",
    "    # Function calls for model selection based on Tfidfvectorization\n",
    "    print(\"Using TfidfVectorizer\")\n",
    "    modelselection_tf(models,features_train_tf,result_train)"
   ]
  },
  {
   "cell_type": "markdown",
   "metadata": {},
   "source": [
    "### Function for Creating Model Pipeline and Using GridSearchCv"
   ]
  },
  {
   "cell_type": "code",
   "execution_count": 10,
   "metadata": {},
   "outputs": [],
   "source": [
    "def model_pipeline(features_train_g,result_train):\n",
    "    \n",
    "    #Creating a model pippeline with vectorization\n",
    "    pipe = Pipeline(steps=[('tfidf_vectorization', TfidfVectorizer()),('classifier', MultinomialNB())])\n",
    "    \n",
    "    #model parameters are passed as a list of dictionariy\n",
    "    search_space=[{'classifier':[LogisticRegression(random_state=1)]},\n",
    "                 {'classifier':[MultinomialNB()]},\n",
    "                 {'classifier':[svm.SVC(probability=True,random_state=1)]},\n",
    "                 {'classifier':[DecisionTreeClassifier(random_state=1)]}\n",
    "                 ]\n",
    "    #scoring of models is based on accuracy and ROC-AUC\n",
    "    scoring={'AUC':'roc_auc','Accuracy':make_scorer(accuracy_score)}\n",
    "    \n",
    "    #Executing pipleine and hyper parameter tuning with Gridsearchcv\n",
    "    grid=GridSearchCV(estimator=pipe,param_grid=search_space,cv=6,scoring=scoring,return_train_score=True,n_jobs=-1,refit='AUC')\n",
    "    \n",
    "    #Fitting the best model\n",
    "    best_model=grid.fit(features_train_g,result_train)\n",
    "    print(\"Best model Accuracy was found to be \",round(best_model.best_score_*100,2))\n",
    "    print(\"Best classification model is \",best_model.best_params_)\n",
    "    \n",
    "    return best_model"
   ]
  },
  {
   "cell_type": "markdown",
   "metadata": {},
   "source": [
    "### Function for Creating Model Pipeline and Using GridSearchCv For More Hyper Parameter Tuning"
   ]
  },
  {
   "cell_type": "code",
   "execution_count": 11,
   "metadata": {},
   "outputs": [],
   "source": [
    "def hyperparameter_tuning_extra(features_train_g,result_train):\n",
    "    # function takes 15 minutes to run\n",
    "    # Initialze the estimators\n",
    "\n",
    "    model1 = svm.SVC(probability=True, random_state=1)\n",
    "    model2 = LogisticRegression(random_state=1)\n",
    "    model3 = DecisionTreeClassifier(random_state=1)\n",
    "    model4 = MultinomialNB()\n",
    "    \n",
    "    # Initiaze the hyperparameters for each dictionary\n",
    "    param1 = {}\n",
    "    # parameters for SVM MODEL\n",
    "    param1['classifier__C'] = [10**-2, 10**-1, 10**0, 10**1, 10**2]\n",
    "    param1['classifier__class_weight'] = [None, {0:1,1:5}, {0:1,1:10}, {0:1,1:25}]\n",
    "    param1['classifier'] = [model1]\n",
    "\n",
    "    param2 = {}\n",
    "    # parameters for LR MODEL\n",
    "    param2['classifier__C'] = [10**-2, 10**-1, 10**0, 10**1, 10**2]\n",
    "    param2['classifier__penalty'] = ['l1', 'l2']\n",
    "    param2['classifier__class_weight'] = [None, {0:1,1:5}, {0:1,1:10}, {0:1,1:25}]\n",
    "    param2['classifier'] = [model2]\n",
    "\n",
    "    param3 = {}\n",
    "    # parameters for Decision Tree MODEL\n",
    "    param3['classifier__max_depth'] = [5,10,25,None]\n",
    "    param3['classifier__min_samples_split'] = [2,5,10]\n",
    "    param3['classifier__class_weight'] = [None, {0:1,1:5}, {0:1,1:10}, {0:1,1:25}]\n",
    "    param3['classifier'] = [model3]\n",
    "\n",
    "    param4 = {}\n",
    "    # parameters for Multinomial Naive Bayes MODEL\n",
    "    param4['classifier__alpha'] = [10**0, 10**1, 10**2]\n",
    "    param4['classifier'] = [model4]\n",
    "    \n",
    "    #Creating a model pippeline with vectorization\n",
    "    pipeline = Pipeline(steps=[('vectorization', TfidfVectorizer()),('classifier', clf1)])\n",
    "    #passing dictionary parameters as a list\n",
    "    params = [param1,param2,param3, param4]\n",
    "    \n",
    "    #scoring of models is based on accuracy and ROC-AUC\n",
    "    scoring_p={'AUC':'roc_auc','Accuracy':make_scorer(accuracy_score)}\n",
    "    \n",
    "    #Executing pipleine and hyper parameter tuning with Gridsearchcv\n",
    "    gs = GridSearchCV(estimator=pipeline, param_grid=params, cv=6, n_jobs=-1, scoring=scoring_p,return_train_score=True,refit='AUC')\n",
    "    \n",
    "    #Fitting the best model\n",
    "    best_model=gs.fit(features_train_g,result_train)\n",
    "    warnings.filterwarnings(\"ignore\")\n",
    "    \n",
    "    return best_model"
   ]
  },
  {
   "cell_type": "markdown",
   "metadata": {},
   "source": [
    "### Function To Save and Load Model"
   ]
  },
  {
   "cell_type": "code",
   "execution_count": 12,
   "metadata": {},
   "outputs": [],
   "source": [
    "def save_model(best_model):\n",
    "    \n",
    "    with open('best_model', 'wb') as files:\n",
    "        pickle.dump(best_model, files)  # Saving best model to Disk\n",
    "def import_model():\n",
    "    with open('best_model' , 'rb') as f:\n",
    "        best_svm = pickle.load(f)    # Loading saved pre trained model \n",
    "    return best_svm"
   ]
  },
  {
   "cell_type": "markdown",
   "metadata": {},
   "source": [
    "### Function For Final Model Evaluation"
   ]
  },
  {
   "cell_type": "code",
   "execution_count": 13,
   "metadata": {},
   "outputs": [],
   "source": [
    "def model_evaluation(best_svm,features_test_g,result_test):\n",
    "    # best selected model and testing data is passed into this function\n",
    "    \n",
    "    # predicting model results\n",
    "    y_pred=best_svm.predict(features_test_g)\n",
    "    \n",
    "    #calculating accuracy using predictions and real testing results\n",
    "    print('Model Test accuracy score: {0:0.2f}'.format(accuracy_score(result_test,y_pred)*100))\n",
    "    print(\"\\n\")\n",
    "    cm = confusion_matrix(result_test, y_pred)\n",
    "    TN = cm[0,0]\n",
    "    TP = cm[1,1]\n",
    "    FP = cm[0,1]\n",
    "    FN = cm[1,0]\n",
    "    print('Confusion matrix\\n\\n', cm)\n",
    "    print('\\nTrue Negatives(TN) Correctly Predicted as Ham =  ', cm[0,0])\n",
    "    print('\\nTrue Positives(TP) Correctly Predicted as Spam = ', cm[1,1])\n",
    "    print('\\nFalse Positives(FP)Wrongly Predicted as Spam =   ', cm[0,1])\n",
    "    print('\\nFalse Negatives(FN)Wrongly Predicted as Ham =    ', cm[1,0])\n",
    "    \n",
    "    # visualize confusion matrix with seaborn heatmap\n",
    "    cm_matrix = pd.DataFrame(data=cm, columns=['Predict Negative:0','Predict Positive:1'],\n",
    "                                     index=['Actual Negative:0', 'Actual Positive:1'])\n",
    "\n",
    "    sns.heatmap(cm_matrix, annot=True, fmt='d', cmap='YlGnBu')\n",
    "    plt.show()\n",
    "\n",
    "    # print classification error\n",
    "    classification_error = (FP + FN) / float(TP + TN + FP + FN)\n",
    "    print('Classification error : {0:0.2f}'.format(classification_error*100))\n",
    "    \n",
    "    # print precision score\n",
    "    precision = TP / float(TP + FP)\n",
    "    print('Precision : {0:0.2f}'.format(precision*100))\n",
    "    \n",
    "    # print recall\n",
    "    recall = TP / float(TP + FN)\n",
    "    print('Recall or Sensitivity : {0:0.2f}'.format(recall*100))\n",
    "    \n",
    "    print(\"---------------Classification Report-----------\")\n",
    "    print(classification_report(result_test, y_pred))\n",
    "    \n",
    "    # calculate the fpr and tpr for all thresholds of the classification\n",
    "    probs = best_svm.predict_proba(features_test_g) #getting prediction probabilities\n",
    "    preds = probs[:,1]\n",
    "    fpr, tpr, threshold = metrics.roc_curve(result_test, preds) \n",
    "    roc_auc = metrics.auc(fpr, tpr) #roc auc for plot\n",
    "    plt.title('Receiver Operating Characteristic')\n",
    "    plt.plot(fpr, tpr, 'b', label = 'AUC = %0.2f' % roc_auc) #using fpr and tpr to plot roc-auc curve\n",
    "    plt.legend(loc = 'lower right')\n",
    "    plt.plot([0, 1], [0, 1],'r--')\n",
    "    plt.xlim([0, 1])\n",
    "    plt.ylim([0, 1])\n",
    "    plt.ylabel('True Positive Rate')\n",
    "    plt.xlabel('False Positive Rate')\n",
    "    plt.show()\n",
    "\n",
    "    # compute ROC AUC\n",
    "\n",
    "    ROC_AUC = roc_auc_score(result_test, preds)\n",
    "    print('ROC AUC : {:.2f}'.format(ROC_AUC*100))"
   ]
  },
  {
   "cell_type": "code",
   "execution_count": 14,
   "metadata": {},
   "outputs": [],
   "source": [
    "import nltk"
   ]
  },
  {
   "cell_type": "markdown",
   "metadata": {},
   "source": [
    "# Main Implementation starts Here"
   ]
  },
  {
   "cell_type": "code",
   "execution_count": 15,
   "metadata": {},
   "outputs": [
    {
     "name": "stdout",
     "output_type": "stream",
     "text": [
      "Shape of Ham data\n",
      "(3672, 2)\n",
      "\n",
      "\n",
      "Shape of Spam Data\n",
      "(1500, 2)\n",
      "\n",
      "\n",
      "Combined data\n",
      "                                              Emails  Target\n",
      "0  Subject: deals to be extended on meter 985097 ...       0\n",
      "1  Subject: fw : [ fwd : two prayer requests ]\\np...       0\n",
      "2  Subject: cp & l\\nthanks for your help .\\nrebec...       0\n",
      "3  Subject: revised nomination - june , 2000\\ndar...       0\n",
      "4  Subject: koch midstream services co\\ni have be...       0\n",
      "\n",
      "\n",
      "Checking for Null values\n",
      "\n",
      "Emails    0\n",
      "Target    0\n",
      "dtype: int64\n",
      "Shape of the data before removing duplicates\n",
      "(5172, 2)\n",
      "Number of duplicate records\n",
      "178\n",
      "Shape of the data after removing duplicates\n",
      "(4994, 2)\n"
     ]
    },
    {
     "data": {
      "image/png": "[encoded data removed]",
      "text/plain": [
       "<Figure size 432x432 with 1 Axes>"
      ]
     },
     "metadata": {},
     "output_type": "display_data"
    },
    {
     "name": "stdout",
     "output_type": "stream",
     "text": [
      "Shape of the data after pre processing is:  (4990, 2)\n",
      "\n",
      "\n",
      "                                              Emails  Target\n",
      "0  deal extend meter accord meter statement overf...       0\n",
      "1  fwd two prayer request pleas respond origin me...       0\n",
      "2  cp thank help rebecca forward rebecca griffin ...       0\n",
      "3  revis nomin june daren fyi receiv revis nomin ...       0\n",
      "4  koch midstream servic co bill koch midstream s...       0\n",
      "\n",
      "\n",
      "---------Traning data Statistics--------\n",
      "Shape of train features  (3493,)\n",
      "Shape of train target (3493,)\n",
      "Number of data points with Ham and Spam \n",
      "  0    2471\n",
      "1    1022\n",
      "Name: Target, dtype: int64\n",
      "\n",
      "\n",
      "---------Testing data Statistics--------\n",
      "Shape of test features  (1497,)\n",
      "Shape of test target (1497,)\n",
      "Number of data points with Ham and Spam \n",
      "  0    1060\n",
      "1     437\n",
      "Name: Target, dtype: int64\n"
     ]
    }
   ],
   "source": [
    "# importing required libraries\n",
    "# Data cleaning and pre processing occurs here\n",
    "import glob\n",
    "import pandas as pd\n",
    "import numpy as np\n",
    "from sklearn.utils import shuffle\n",
    "from sklearn.model_selection import train_test_split\n",
    "from collections import Counter\n",
    "import random\n",
    "import warnings\n",
    "import string\n",
    "import re\n",
    "#nltk.download('all')  --------------------# downloading all packages of nltk\n",
    "import nltk\n",
    "from nltk.tokenize import word_tokenize\n",
    "from nltk.corpus import stopwords\n",
    "from nltk import SnowballStemmer\n",
    "import matplotlib.pyplot as plt \n",
    "from sklearn.feature_extraction.text import CountVectorizer\n",
    "from sklearn.feature_extraction.text import TfidfVectorizer\n",
    "from sklearn.naive_bayes import MultinomialNB \n",
    "from sklearn.tree import DecisionTreeClassifier\n",
    "from sklearn.linear_model import LogisticRegression\n",
    "from sklearn import svm\n",
    "from sklearn.model_selection import cross_val_predict\n",
    "from sklearn.naive_bayes import MultinomialNB\n",
    "from sklearn.model_selection import cross_val_score,KFold,StratifiedKFold\n",
    "from sklearn.tree import DecisionTreeClassifier\n",
    "from sklearn.linear_model import LogisticRegression\n",
    "from sklearn import svm\n",
    "from sklearn.model_selection import GridSearchCV\n",
    "from sklearn.pipeline import Pipeline\n",
    "from sklearn.metrics import accuracy_score\n",
    "from sklearn.metrics import make_scorer\n",
    "from sklearn.metrics import classification_report\n",
    "import sklearn.metrics as metrics\n",
    "from sklearn.metrics import roc_auc_score\n",
    "import matplotlib.pyplot as plt\n",
    "import seaborn as sns\n",
    "from sklearn.metrics import confusion_matrix\n",
    "import pickle\n",
    "\n",
    "#Getting file paths\n",
    "ham_file_path=\"C:\\\\Users\\\\bless\\\\OneDrive\\\\Desktop\\\\MTU-Sem2\\\\Applied ML\\\\Assignment1\\\\enron1\\\\ham\\\\*.txt\"\n",
    "spam_file_path=\"C:\\\\Users\\\\bless\\\\OneDrive\\\\Desktop\\\\MTU-Sem2\\\\Applied ML\\\\Assignment1\\\\enron1\\\\spam\\\\*.txt\"\n",
    "\n",
    "# calling functon to read files. passing paths as parameters\n",
    "final_df=read_file(ham_file_path,spam_file_path)\n",
    "\n",
    "#calling function to check data for duplications\n",
    "final_df=data_check(final_df)\n",
    "\n",
    "#calling function for pre processing\n",
    "final_df_cleaned=text_cleaning(final_df,stop_words=True,stem=True)\n",
    "print(\"Shape of the data after pre processing is: \",final_df_cleaned.shape)\n",
    "print(\"\\n\")\n",
    "print(final_df_cleaned.head(5))\n",
    "\n",
    "# splitting data into train and test\n",
    "features_train, features_test, result_train, result_test = train_test_split(final_df_cleaned[\"Emails\"], final_df_cleaned['Target'], test_size = 0.3, random_state = 1)\n",
    "print(\"\\n\")\n",
    "print(\"---------Traning data Statistics--------\")\n",
    "print(\"Shape of train features \",features_train.shape)\n",
    "print(\"Shape of train target\",result_train.shape)\n",
    "print(\"Number of data points with Ham and Spam \\n \",result_train.value_counts())\n",
    "print(\"\\n\")\n",
    "print(\"---------Testing data Statistics--------\")\n",
    "print(\"Shape of test features \",features_test.shape)\n",
    "print(\"Shape of test target\",result_test.shape)\n",
    "print(\"Number of data points with Ham and Spam \\n \",result_test.value_counts())\n",
    "\n",
    "# A copy of train data is made that is used for EDA\n",
    "features_train1=features_train\n",
    "result_train1=result_train\n",
    "#training data frame for EDA\n",
    "df_train=pd.concat([features_train1,result_train1],axis=1)\n",
    "df_train.reset_index(drop=True, inplace=True)\n",
    "\n",
    "# initializing countvectorizer\n",
    "cv = CountVectorizer()\n",
    "\n",
    "#initializing tfidfvectorizer\n",
    "tf = TfidfVectorizer()\n",
    "\n",
    "# traning and testing features to be used in gridsearchcv. feature extraction happens in pipeline\n",
    "features_train_g=features_train\n",
    "features_test_g=features_test\n",
    "\n",
    "#training and testing features countvectorized for model evaluation\n",
    "features_train_cv = cv.fit_transform(features_train) # creation of encoded feature vector based on counts\n",
    "features_test_cv = cv.transform(features_test) # test data transformed on the parameters learned using training data\n",
    "\n",
    "#training and testing features tfidfvectorized for model evaluation\n",
    "features_train_tf = tf.fit_transform(features_train)\n",
    "features_test_tf = tf.transform(features_test)  # test data transformed on the parameters learned using training data\n"
   ]
  },
  {
   "cell_type": "markdown",
   "metadata": {},
   "source": [
    "### Function Call for EDA"
   ]
  },
  {
   "cell_type": "code",
   "execution_count": 16,
   "metadata": {},
   "outputs": [
    {
     "name": "stdout",
     "output_type": "stream",
     "text": [
      "\n",
      "\n",
      "----------Average length----------\n",
      "Average length of spam messages  780.0\n",
      "Average length of ham messages  497.0\n"
     ]
    },
    {
     "name": "stderr",
     "output_type": "stream",
     "text": [
      "C:\\Users\\Anaconda\\anaconda3\\lib\\site-packages\\matplotlib\\cbook\\__init__.py:1376: VisibleDeprecationWarning: Creating an ndarray from ragged nested sequences (which is a list-or-tuple of lists-or-tuples-or ndarrays with different lengths or shapes) is deprecated. If you meant to do this, you must specify 'dtype=object' when creating the ndarray.\n",
      "  X = np.atleast_1d(X.T if isinstance(X, np.ndarray) else np.asarray(X))\n"
     ]
    },
    {
     "data": {
      "image/png": "[encoded data removed]",
      "text/plain": [
       "<Figure size 648x432 with 1 Axes>"
      ]
     },
     "metadata": {
      "needs_background": "light"
     },
     "output_type": "display_data"
    }
   ],
   "source": [
    "df_train=data_exploration(df_train)"
   ]
  },
  {
   "cell_type": "markdown",
   "metadata": {},
   "source": [
    "### Function Call for Further EDA"
   ]
  },
  {
   "cell_type": "code",
   "execution_count": 17,
   "metadata": {},
   "outputs": [
    {
     "name": "stdout",
     "output_type": "stream",
     "text": [
      "----------Data Frame sorted by largest length-----------\n",
      "                                                 Emails  Target  Length\n",
      "2195  onlin pharxmaci med disscount phafrmaci onlsin...       1   19465\n",
      "3295  cy adrian hideout der best men product today c...       1    9931\n",
      "662   free profil choos derm htmlheadtitlelt lt subs...       1    7988\n",
      "2603  hpl optim pleas make sure staff receiv includ ...       0    7401\n",
      "3097  sitara releas chang global due consent assign ...       0    7069\n",
      "----------Description of Entire Data by Length----------\n",
      "count     3493.000000\n",
      "mean       579.721729\n",
      "std        905.161568\n",
      "min          4.000000\n",
      "25%        125.000000\n",
      "50%        290.000000\n",
      "75%        657.000000\n",
      "max      19465.000000\n",
      "Name: Length, dtype: float64\n",
      "----------Description of Spam Data by Length----------\n",
      "count     1022.000000\n",
      "mean       779.538160\n",
      "std       1276.003659\n",
      "min          4.000000\n",
      "25%        164.000000\n",
      "50%        349.500000\n",
      "75%        750.000000\n",
      "max      19465.000000\n",
      "Name: Length, dtype: float64\n",
      "----------Description of Ham Data by Length----------\n",
      "count    2471.000000\n",
      "mean      497.078106\n",
      "std       679.663382\n",
      "min         4.000000\n",
      "25%       112.000000\n",
      "50%       257.000000\n",
      "75%       614.500000\n",
      "max      7401.000000\n",
      "Name: Length, dtype: float64\n"
     ]
    },
    {
     "data": {
      "image/png": "[encoded data removed]",
      "text/plain": [
       "<Figure size 864x288 with 1 Axes>"
      ]
     },
     "metadata": {
      "needs_background": "light"
     },
     "output_type": "display_data"
    },
    {
     "data": {
      "image/png": "[encoded data removed]",
      "text/plain": [
       "<Figure size 864x288 with 1 Axes>"
      ]
     },
     "metadata": {
      "needs_background": "light"
     },
     "output_type": "display_data"
    }
   ],
   "source": [
    "largest(df_train)"
   ]
  },
  {
   "cell_type": "markdown",
   "metadata": {},
   "source": [
    "### Function Call to Find Important Words"
   ]
  },
  {
   "cell_type": "code",
   "execution_count": 18,
   "metadata": {},
   "outputs": [
    {
     "name": "stderr",
     "output_type": "stream",
     "text": [
      "C:\\Users\\bless\\AppData\\Roaming\\Python\\Python38\\site-packages\\seaborn\\_decorators.py:36: FutureWarning: Pass the following variables as keyword args: x, y. From version 0.12, the only valid positional argument will be `data`, and passing other arguments without an explicit keyword will result in an error or misinterpretation.\n",
      "  warnings.warn(\n"
     ]
    },
    {
     "data": {
      "image/png": "[encoded data removed]",
      "text/plain": [
       "<Figure size 1080x432 with 1 Axes>"
      ]
     },
     "metadata": {
      "needs_background": "light"
     },
     "output_type": "display_data"
    },
    {
     "name": "stderr",
     "output_type": "stream",
     "text": [
      "C:\\Users\\bless\\AppData\\Roaming\\Python\\Python38\\site-packages\\seaborn\\_decorators.py:36: FutureWarning: Pass the following variables as keyword args: x, y. From version 0.12, the only valid positional argument will be `data`, and passing other arguments without an explicit keyword will result in an error or misinterpretation.\n",
      "  warnings.warn(\n"
     ]
    },
    {
     "data": {
      "image/png": "[encoded data removed]",
      "text/plain": [
       "<Figure size 1080x432 with 1 Axes>"
      ]
     },
     "metadata": {
      "needs_background": "light"
     },
     "output_type": "display_data"
    }
   ],
   "source": [
    "top_words(df_train)"
   ]
  },
  {
   "cell_type": "markdown",
   "metadata": {},
   "source": [
    "### Function Call for Model Selection Using Cross Validation"
   ]
  },
  {
   "cell_type": "code",
   "execution_count": 19,
   "metadata": {},
   "outputs": [
    {
     "name": "stdout",
     "output_type": "stream",
     "text": [
      "Using CountVectorizer\n",
      "------------------ LR --------------------------\n",
      "Best K value for  LR  is  6\n",
      "Score in each folds are  [0.96226415 0.9742268  0.98453608 0.97938144 0.96735395 0.9862543 ]\n",
      "Overall Accuracy of Model with Cross Validation is: 97.57\n",
      "LR: 0.975669 (0.008712)\n",
      "------------------ MNB --------------------------\n",
      "Best K value for  MNB  is  3\n",
      "Score in each folds are  [0.97424893 0.98109966 0.98281787]\n",
      "Overall Accuracy of Model with Cross Validation is: 97.94\n",
      "MNB: 0.979389 (0.003702)\n",
      "------------------ SVM --------------------------\n",
      "Best K value for  SVM  is  10\n",
      "Score in each folds are  [0.96285714 0.93142857 0.96       0.97707736 0.96561605 0.97707736\n",
      " 0.96275072 0.96561605 0.95415473 0.97994269]\n",
      "Overall Accuracy of Model with Cross Validation is: 96.37\n",
      "SVM: 0.963652 (0.013330)\n",
      "------------------ Dtree --------------------------\n",
      "Best K value for  Dtree  is  8\n",
      "Score in each folds are  [0.9382151  0.94508009 0.94736842 0.95652174 0.95881007 0.95412844\n",
      " 0.93119266 0.93577982]\n",
      "Overall Accuracy of Model with Cross Validation is: 94.59\n",
      "Dtree: 0.945887 (0.009538)\n"
     ]
    },
    {
     "data": {
      "image/png": "[encoded data removed]",
      "text/plain": [
       "<Figure size 432x288 with 1 Axes>"
      ]
     },
     "metadata": {
      "needs_background": "light"
     },
     "output_type": "display_data"
    },
    {
     "name": "stdout",
     "output_type": "stream",
     "text": [
      "Using TfidfVectorizer\n",
      "------------------ LR --------------------------\n",
      "Best K value for  LR  is  8\n",
      "Score in each folds are  [0.97254005 0.97940503 0.97940503 0.99313501 0.98627002 0.98623853\n",
      " 0.97477064 0.99082569]\n",
      "Overall Accuracy of Model with Cross Validation is: 98.28\n",
      "LR: 0.982824 (0.006963)\n",
      "------------------ MNB --------------------------\n",
      "Best K value for  MNB  is  10\n",
      "Score in each folds are  [0.93428571 0.89714286 0.93142857 0.9226361  0.91117479 0.91977077\n",
      " 0.91404011 0.93696275 0.91404011 0.91404011]\n",
      "Overall Accuracy of Model with Cross Validation is: 91.96\n",
      "MNB: 0.919552 (0.011551)\n",
      "------------------ SVM --------------------------\n",
      "Best K value for  SVM  is  10\n",
      "Score in each folds are  [0.98       0.97142857 0.98285714 0.98280802 0.99140401 0.99140401\n",
      " 0.99426934 0.97707736 0.97994269 0.99140401]\n",
      "Overall Accuracy of Model with Cross Validation is: 98.43\n",
      "SVM: 0.984260 (0.007144)\n",
      "------------------ Dtree --------------------------\n",
      "Best K value for  Dtree  is  7\n",
      "Score in each folds are  [0.93787575 0.93787575 0.95791583 0.95991984 0.9498998  0.9498998\n",
      " 0.95390782]\n",
      "Overall Accuracy of Model with Cross Validation is: 94.96\n",
      "Dtree: 0.949614 (0.008188)\n"
     ]
    },
    {
     "data": {
      "image/png": "[encoded data removed]",
      "text/plain": [
       "<Figure size 432x288 with 1 Axes>"
      ]
     },
     "metadata": {
      "needs_background": "light"
     },
     "output_type": "display_data"
    }
   ],
   "source": [
    "model_selection(features_train_cv,features_train_tf,result_train)"
   ]
  },
  {
   "cell_type": "markdown",
   "metadata": {},
   "source": [
    "### Function Call To Find Best Model Using Pipeline And GridSearchCv"
   ]
  },
  {
   "cell_type": "code",
   "execution_count": 20,
   "metadata": {},
   "outputs": [
    {
     "name": "stdout",
     "output_type": "stream",
     "text": [
      "Best model Accuracy was found to be  99.84\n",
      "Best classification model is  {'classifier': SVC(probability=True, random_state=1)}\n"
     ]
    }
   ],
   "source": [
    "best_model=model_pipeline(features_train_g,result_train)"
   ]
  },
  {
   "cell_type": "markdown",
   "metadata": {},
   "source": [
    "### Function Call For Further Hyper Parameter Tuning"
   ]
  },
  {
   "cell_type": "code",
   "execution_count": 21,
   "metadata": {},
   "outputs": [],
   "source": [
    "# As it takes 15-20 minutes to run and does not give much improved results, this model is not used further\n",
    "#hyperparameter_tuning_extra(features_train_g,result_train)\n",
    "#print(best_model.best_score_)\n",
    "#print(best_model.best_params_)"
   ]
  },
  {
   "cell_type": "markdown",
   "metadata": {},
   "source": [
    "### Function Call To Save and Load Best Model"
   ]
  },
  {
   "cell_type": "code",
   "execution_count": 22,
   "metadata": {},
   "outputs": [],
   "source": [
    "save_model(best_model)\n",
    "best_svm=import_model()"
   ]
  },
  {
   "cell_type": "markdown",
   "metadata": {},
   "source": [
    "### Function Call To Evaluate Best Model"
   ]
  },
  {
   "cell_type": "code",
   "execution_count": 23,
   "metadata": {},
   "outputs": [
    {
     "name": "stdout",
     "output_type": "stream",
     "text": [
      "Model Test accuracy score: 98.73\n",
      "\n",
      "\n",
      "Confusion matrix\n",
      "\n",
      " [[1047   13]\n",
      " [   6  431]]\n",
      "\n",
      "True Negatives(TN) Correctly Predicted as Ham =   1047\n",
      "\n",
      "True Positives(TP) Correctly Predicted as Spam =  431\n",
      "\n",
      "False Positives(FP)Wrongly Predicted as Spam =    13\n",
      "\n",
      "False Negatives(FN)Wrongly Predicted as Ham =     6\n"
     ]
    },
    {
     "data": {
      "image/png": "[encoded data removed]",
      "text/plain": [
       "<Figure size 432x288 with 2 Axes>"
      ]
     },
     "metadata": {
      "needs_background": "light"
     },
     "output_type": "display_data"
    },
    {
     "name": "stdout",
     "output_type": "stream",
     "text": [
      "Classification error : 1.27\n",
      "Precision : 97.07\n",
      "Recall or Sensitivity : 98.63\n",
      "---------------Classification Report-----------\n",
      "              precision    recall  f1-score   support\n",
      "\n",
      "           0       0.99      0.99      0.99      1060\n",
      "           1       0.97      0.99      0.98       437\n",
      "\n",
      "    accuracy                           0.99      1497\n",
      "   macro avg       0.98      0.99      0.98      1497\n",
      "weighted avg       0.99      0.99      0.99      1497\n",
      "\n"
     ]
    },
    {
     "data": {
      "image/png": "[encoded data removed]",
      "text/plain": [
       "<Figure size 432x288 with 1 Axes>"
      ]
     },
     "metadata": {
      "needs_background": "light"
     },
     "output_type": "display_data"
    },
    {
     "name": "stdout",
     "output_type": "stream",
     "text": [
      "ROC AUC : 99.83\n"
     ]
    }
   ],
   "source": [
    "# model evaluation using imported pre trained model\n",
    "model_evaluation(best_svm,features_test_g,result_test)"
   ]
  }
 ],
 "metadata": {
  "kernelspec": {
   "display_name": "Python 3 (ipykernel)",
   "language": "python",
   "name": "python3"
  },
  "language_info": {
   "codemirror_mode": {
    "name": "ipython",
    "version": 3
   },
   "file_extension": ".py",
   "mimetype": "text/x-python",
   "name": "python",
   "nbconvert_exporter": "python",
   "pygments_lexer": "ipython3",
   "version": "3.9.7"
  }
 },
 "nbformat": 4,
 "nbformat_minor": 4
}
